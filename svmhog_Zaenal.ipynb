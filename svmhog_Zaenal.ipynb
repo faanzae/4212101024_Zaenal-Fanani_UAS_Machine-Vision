{
 "cells": [
  {
   "cell_type": "code",
   "execution_count": 1,
   "metadata": {},
   "outputs": [],
   "source": [
    "import matplotlib.pyplot as plt\n",
    "from skimage.feature import hog\n",
    "from mlxtend.data import loadlocal_mnist\n",
    "import numpy as np\n",
    "from sklearn import svm\n",
    "from sklearn.metrics import confusion_matrix\n",
    "import random\n",
    "from mlxtend.plotting import plot_confusion_matrix\n",
    "from sklearn.metrics import precision_score\n",
    "from sklearn.metrics import accuracy_score"
   ]
  },
  {
   "cell_type": "markdown",
   "metadata": {},
   "source": [
    "1. memanggil dataset ke variable"
   ]
  },
  {
   "cell_type": "code",
   "execution_count": 2,
   "metadata": {},
   "outputs": [],
   "source": [
    "train_images, train_labels = loadlocal_mnist(images_path='data-train/train-images.idx3-ubyte',\n",
    "                                             labels_path='data-train/train-labels.idx1-ubyte')"
   ]
  },
  {
   "cell_type": "code",
   "execution_count": 3,
   "metadata": {},
   "outputs": [],
   "source": [
    "test_images, test_labels = loadlocal_mnist(images_path='data-test/t10k-images.idx3-ubyte',\n",
    "                                             labels_path='data-test/t10k-labels.idx1-ubyte')"
   ]
  },
  {
   "cell_type": "code",
   "execution_count": 4,
   "metadata": {},
   "outputs": [
    {
     "data": {
      "text/plain": [
       "<matplotlib.image.AxesImage at 0x20e953abfd0>"
      ]
     },
     "execution_count": 4,
     "metadata": {},
     "output_type": "execute_result"
    },
    {
     "data": {
      "image/png": "[encoded data removed]",
      "text/plain": [
       "<Figure size 640x480 with 1 Axes>"
      ]
     },
     "metadata": {},
     "output_type": "display_data"
    }
   ],
   "source": [
    "plt.imshow(train_images[124].reshape(28,28), cmap='gray')"
   ]
  },
  {
   "cell_type": "code",
   "execution_count": 5,
   "metadata": {},
   "outputs": [
    {
     "data": {
      "text/plain": [
       "1"
      ]
     },
     "execution_count": 5,
     "metadata": {},
     "output_type": "execute_result"
    }
   ],
   "source": [
    "train_labels[124]"
   ]
  },
  {
   "cell_type": "markdown",
   "metadata": {},
   "source": [
    "2. ekstraksi fitur hog ke setiap gambar"
   ]
  },
  {
   "cell_type": "code",
   "execution_count": 6,
   "metadata": {},
   "outputs": [],
   "source": [
    "x_training = []\n",
    "for i in train_images.reshape(-1,28,28):\n",
    "    img, _ = hog(i, orientations=9, pixels_per_cell=(8, 8), cells_per_block=(2,2), visualize=True)\n",
    "    x_training.append(img)\n",
    "\n"
   ]
  },
  {
   "cell_type": "code",
   "execution_count": 7,
   "metadata": {},
   "outputs": [],
   "source": [
    "x_training = np.array(x_training)\n",
    "y_training = np.array(train_labels)"
   ]
  },
  {
   "cell_type": "code",
   "execution_count": 8,
   "metadata": {},
   "outputs": [],
   "source": [
    "x_testing = []\n",
    "for i in test_images.reshape(-1,28,28):\n",
    "    img, _ = hog(i, orientations=9, pixels_per_cell=(8, 8), cells_per_block=(2,2), visualize=True)\n",
    "    x_testing.append(img)\n",
    "\n"
   ]
  },
  {
   "cell_type": "code",
   "execution_count": 9,
   "metadata": {},
   "outputs": [],
   "source": [
    "x_testing = np.array(x_testing)\n",
    "y_testing = np.array(test_labels)"
   ]
  },
  {
   "cell_type": "markdown",
   "metadata": {},
   "source": [
    "3. svm proses"
   ]
  },
  {
   "cell_type": "code",
   "execution_count": 10,
   "metadata": {},
   "outputs": [],
   "source": [
    "clf = svm.SVC()\n",
    "clf.fit(x_training, y_training)\n",
    "y_pred = clf.predict(x_testing)\n"
   ]
  },
  {
   "cell_type": "markdown",
   "metadata": {},
   "source": [
    "4. sample test"
   ]
  },
  {
   "cell_type": "code",
   "execution_count": 5,
   "metadata": {},
   "outputs": [
    {
     "ename": "NameError",
     "evalue": "name 'random' is not defined",
     "output_type": "error",
     "traceback": [
      "\u001b[1;31m---------------------------------------------------------------------------\u001b[0m",
      "\u001b[1;31mNameError\u001b[0m                                 Traceback (most recent call last)",
      "\u001b[1;32md:\\Kuliah\\Semester 5\\Machine Vision\\UAS\\v1.1\\svmhog_ipan.ipynb Cell 15\u001b[0m line \u001b[0;36m1\n\u001b[0;32m      <a href='vscode-notebook-cell:/d%3A/Kuliah/Semester%205/Machine%20Vision/UAS/v1.1/svmhog_ipan.ipynb#X20sZmlsZQ%3D%3D?line=7'>8</a>\u001b[0m         plt\u001b[39m.\u001b[39mtitle(\u001b[39mf\u001b[39m\u001b[39m\"\u001b[39m\u001b[39mLabel: \u001b[39m\u001b[39m{\u001b[39;00mx_testing[index]\u001b[39m}\u001b[39;00m\u001b[39m\"\u001b[39m)\n\u001b[0;32m     <a href='vscode-notebook-cell:/d%3A/Kuliah/Semester%205/Machine%20Vision/UAS/v1.1/svmhog_ipan.ipynb#X20sZmlsZQ%3D%3D?line=9'>10</a>\u001b[0m     plt\u001b[39m.\u001b[39mshow()\n\u001b[1;32m---> <a href='vscode-notebook-cell:/d%3A/Kuliah/Semester%205/Machine%20Vision/UAS/v1.1/svmhog_ipan.ipynb#X20sZmlsZQ%3D%3D?line=11'>12</a>\u001b[0m sampletest()\n",
      "\u001b[1;32md:\\Kuliah\\Semester 5\\Machine Vision\\UAS\\v1.1\\svmhog_ipan.ipynb Cell 15\u001b[0m line \u001b[0;36m2\n\u001b[0;32m      <a href='vscode-notebook-cell:/d%3A/Kuliah/Semester%205/Machine%20Vision/UAS/v1.1/svmhog_ipan.ipynb#X20sZmlsZQ%3D%3D?line=0'>1</a>\u001b[0m \u001b[39mdef\u001b[39;00m \u001b[39msampletest\u001b[39m():\n\u001b[1;32m----> <a href='vscode-notebook-cell:/d%3A/Kuliah/Semester%205/Machine%20Vision/UAS/v1.1/svmhog_ipan.ipynb#X20sZmlsZQ%3D%3D?line=1'>2</a>\u001b[0m     random_indices \u001b[39m=\u001b[39m random\u001b[39m.\u001b[39msample(\u001b[39mrange\u001b[39m(\u001b[39mlen\u001b[39m(test_images)), \u001b[39m8\u001b[39m)\n\u001b[0;32m      <a href='vscode-notebook-cell:/d%3A/Kuliah/Semester%205/Machine%20Vision/UAS/v1.1/svmhog_ipan.ipynb#X20sZmlsZQ%3D%3D?line=3'>4</a>\u001b[0m     plt\u001b[39m.\u001b[39mfigure(figsize\u001b[39m=\u001b[39m(\u001b[39m15\u001b[39m, \u001b[39m3\u001b[39m))\n\u001b[0;32m      <a href='vscode-notebook-cell:/d%3A/Kuliah/Semester%205/Machine%20Vision/UAS/v1.1/svmhog_ipan.ipynb#X20sZmlsZQ%3D%3D?line=4'>5</a>\u001b[0m     \u001b[39mfor\u001b[39;00m i, index \u001b[39min\u001b[39;00m \u001b[39menumerate\u001b[39m(random_indices, \u001b[39m1\u001b[39m):\n",
      "\u001b[1;31mNameError\u001b[0m: name 'random' is not defined"
     ]
    }
   ],
   "source": [
    "def sampletest():\n",
    "    random_indices = random.sample(range(len(test_images)), 8)\n",
    "\n",
    "    plt.figure(figsize=(15, 3))\n",
    "    for i, index in enumerate(random_indices, 1):\n",
    "        plt.subplot(1, 8, i)\n",
    "        plt.imshow(test_images[index].reshape(28, 28), cmap='gray')\n",
    "        plt.title(f\"Label: {y_testing[index]}\")\n",
    "\n",
    "    plt.show()\n",
    "\n",
    "sampletest()"
   ]
  },
  {
   "cell_type": "markdown",
   "metadata": {},
   "source": [
    "5. evaluasi model ( confusion matrix, precision, accuracy)"
   ]
  },
  {
   "cell_type": "code",
   "execution_count": 21,
   "metadata": {},
   "outputs": [],
   "source": [
    "class_names = ['0', '1', '2', '3', '4', '5', '6', '7', '8', '9']"
   ]
  },
  {
   "cell_type": "markdown",
   "metadata": {},
   "source": [
    "a. confusion matrix"
   ]
  },
  {
   "cell_type": "code",
   "execution_count": 22,
   "metadata": {},
   "outputs": [
    {
     "data": {
      "text/plain": [
       "array([[ 973,    0,    1,    0,    0,    0,    5,    1,    0,    0],\n",
       "       [   1, 1124,    6,    0,    2,    0,    1,    1,    0,    0],\n",
       "       [   2,    0, 1011,    6,    2,    0,    1,    8,    2,    0],\n",
       "       [   2,    2,    8,  979,    0,    2,    0,    4,    6,    7],\n",
       "       [   4,    1,    0,    0,  950,    0,    9,    2,    2,   14],\n",
       "       [   3,    0,    0,   10,    0,  865,    7,    1,    5,    1],\n",
       "       [   6,    2,    1,    0,    2,    4,  940,    0,    2,    1],\n",
       "       [   0,    3,   13,    3,   11,    0,    0,  981,    4,   13],\n",
       "       [   6,    1,    4,   12,    2,    4,    1,    3,  934,    7],\n",
       "       [   2,    3,    0,    5,   11,    4,    0,    4,   13,  967]],\n",
       "      dtype=int64)"
      ]
     },
     "execution_count": 22,
     "metadata": {},
     "output_type": "execute_result"
    }
   ],
   "source": [
    "conf_mat = confusion_matrix(y_testing,y_pred)\n",
    "conf_mat"
   ]
  },
  {
   "cell_type": "code",
   "execution_count": 23,
   "metadata": {},
   "outputs": [
    {
     "data": {
      "image/png": "[encoded data removed]",
      "text/plain": [
       "<Figure size 640x480 with 1 Axes>"
      ]
     },
     "metadata": {},
     "output_type": "display_data"
    }
   ],
   "source": [
    "fig, ax = plot_confusion_matrix(conf_mat=conf_mat, class_names=class_names)"
   ]
  },
  {
   "cell_type": "markdown",
   "metadata": {},
   "source": [
    "b. precision"
   ]
  },
  {
   "cell_type": "code",
   "execution_count": 24,
   "metadata": {},
   "outputs": [
    {
     "data": {
      "text/plain": [
       "array([0.97397397, 0.98943662, 0.9683908 , 0.96453202, 0.96938776,\n",
       "       0.98407281, 0.97510373, 0.9761194 , 0.96487603, 0.95742574])"
      ]
     },
     "execution_count": 24,
     "metadata": {},
     "output_type": "execute_result"
    }
   ],
   "source": [
    "precision = precision_score(y_testing, y_pred, average=None)\n",
    "precision"
   ]
  },
  {
   "cell_type": "markdown",
   "metadata": {},
   "source": [
    "c. accuracy"
   ]
  },
  {
   "cell_type": "code",
   "execution_count": 25,
   "metadata": {},
   "outputs": [
    {
     "data": {
      "text/plain": [
       "0.9724"
      ]
     },
     "execution_count": 25,
     "metadata": {},
     "output_type": "execute_result"
    },
    {
     "ename": "",
     "evalue": "",
     "output_type": "error",
     "traceback": [
      "\u001b[1;31mThe Kernel crashed while executing code in the the current cell or a previous cell. Please review the code in the cell(s) to identify a possible cause of the failure. Click <a href='https://aka.ms/vscodeJupyterKernelCrash'>here</a> for more info. View Jupyter <a href='command:jupyter.viewOutput'>log</a> for further details."
     ]
    }
   ],
   "source": [
    "accuracy = accuracy_score(y_testing, y_pred)\n",
    "accuracy"
   ]
  }
 ],
 "metadata": {
  "kernelspec": {
   "display_name": "Python 3",
   "language": "python",
   "name": "python3"
  },
  "language_info": {
   "codemirror_mode": {
    "name": "ipython",
    "version": 3
   },
   "file_extension": ".py",
   "mimetype": "text/x-python",
   "name": "python",
   "nbconvert_exporter": "python",
   "pygments_lexer": "ipython3",
   "version": "3.11.5"
  }
 },
 "nbformat": 4,
 "nbformat_minor": 2
}
